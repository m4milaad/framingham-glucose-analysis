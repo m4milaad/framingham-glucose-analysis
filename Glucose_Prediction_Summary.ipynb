{
  "cells": [
    {
      "cell_type": "markdown",
      "id": "637c6b02",
      "metadata": {
        "id": "637c6b02"
      },
      "source": [
        "\n",
        "# Glucose Level Prediction Project\n",
        "\n",
        "This notebook focuses on predicting glucose levels using health-related features from the Framingham dataset.\n",
        "It includes steps for data cleaning, exploratory data analysis, model training, and interpretation of results.\n"
      ]
    },
    {
      "cell_type": "markdown",
      "id": "f1908eaa",
      "metadata": {
        "id": "f1908eaa"
      },
      "source": [
        "\n",
        "## What To Do\n",
        "\n",
        "1. Import and explore the `framingham.csv` dataset.\n",
        "2. Clean the data (handle nulls, correct formats, etc.).\n",
        "3. Visualize the distribution of glucose and related health indicators.\n",
        "4. Perform feature selection and engineering.\n",
        "5. Train ML models (e.g., Logistic Regression, Decision Tree, Random Forest).\n",
        "6. Evaluate models using classification metrics.\n",
        "7. Predict glucose levels and draw insights.\n",
        "8. Visualize the model’s important features and performance.\n"
      ]
    },
    {
      "cell_type": "markdown",
      "source": [
        "Import Libraries"
      ],
      "metadata": {
        "id": "G3M_1FkhXvPi"
      },
      "id": "G3M_1FkhXvPi"
    },
    {
      "cell_type": "code",
      "source": [
        "import pandas as pd\n",
        "import numpy as np\n",
        "import matplotlib.pyplot as plt\n",
        "import seaborn as sns\n",
        "from sklearn.model_selection import train_test_split, GridSearchCV\n",
        "from sklearn.preprocessing import StandardScaler\n",
        "from sklearn.impute import SimpleImputer\n",
        "from sklearn.linear_model import LogisticRegression\n",
        "from sklearn.tree import DecisionTreeClassifier\n",
        "from sklearn.ensemble import RandomForestClassifier\n",
        "from xgboost import XGBClassifier\n",
        "from imblearn.over_sampling import SMOTE\n",
        "from sklearn.metrics import accuracy_score, classification_report, confusion_matrix"
      ],
      "metadata": {
        "id": "OCEj7qhqbKH-"
      },
      "id": "OCEj7qhqbKH-",
      "execution_count": 27,
      "outputs": []
    },
    {
      "cell_type": "markdown",
      "source": [
        "Load Dataset"
      ],
      "metadata": {
        "id": "9tR3M-4FbrGa"
      },
      "id": "9tR3M-4FbrGa"
    },
    {
      "cell_type": "code",
      "source": [
        "df = pd.read_csv('framingham.csv')"
      ],
      "metadata": {
        "id": "WZP4Pke7bnKY"
      },
      "id": "WZP4Pke7bnKY",
      "execution_count": 28,
      "outputs": []
    },
    {
      "cell_type": "markdown",
      "source": [
        "Explore Dataset"
      ],
      "metadata": {
        "id": "4b-TREDVb-Bv"
      },
      "id": "4b-TREDVb-Bv"
    },
    {
      "cell_type": "code",
      "source": [
        "print(df.head())"
      ],
      "metadata": {
        "colab": {
          "base_uri": "https://localhost:8080/"
        },
        "id": "Y2b_8dxNcCFH",
        "outputId": "c92cb170-c5db-4033-cad3-33d7d790b041"
      },
      "id": "Y2b_8dxNcCFH",
      "execution_count": 29,
      "outputs": [
        {
          "output_type": "stream",
          "name": "stdout",
          "text": [
            "   male  age  education  currentSmoker  cigsPerDay  BPMeds  prevalentStroke  \\\n",
            "0     1   39        4.0              0         0.0     0.0                0   \n",
            "1     0   46        2.0              0         0.0     0.0                0   \n",
            "2     1   48        1.0              1        20.0     0.0                0   \n",
            "3     0   61        3.0              1        30.0     0.0                0   \n",
            "4     0   46        3.0              1        23.0     0.0                0   \n",
            "\n",
            "   prevalentHyp  diabetes  totChol  sysBP  diaBP    BMI  heartRate  glucose  \\\n",
            "0             0         0    195.0  106.0   70.0  26.97       80.0     77.0   \n",
            "1             0         0    250.0  121.0   81.0  28.73       95.0     76.0   \n",
            "2             0         0    245.0  127.5   80.0  25.34       75.0     70.0   \n",
            "3             1         0    225.0  150.0   95.0  28.58       65.0    103.0   \n",
            "4             0         0    285.0  130.0   84.0  23.10       85.0     85.0   \n",
            "\n",
            "   TenYearCHD  \n",
            "0           0  \n",
            "1           0  \n",
            "2           0  \n",
            "3           1  \n",
            "4           0  \n"
          ]
        }
      ]
    },
    {
      "cell_type": "code",
      "source": [
        "print(df.info())"
      ],
      "metadata": {
        "colab": {
          "base_uri": "https://localhost:8080/"
        },
        "id": "mfPbtM-9cJyJ",
        "outputId": "d2381cb9-60ff-48a9-f3b6-acfd991a249d"
      },
      "id": "mfPbtM-9cJyJ",
      "execution_count": 30,
      "outputs": [
        {
          "output_type": "stream",
          "name": "stdout",
          "text": [
            "<class 'pandas.core.frame.DataFrame'>\n",
            "RangeIndex: 4240 entries, 0 to 4239\n",
            "Data columns (total 16 columns):\n",
            " #   Column           Non-Null Count  Dtype  \n",
            "---  ------           --------------  -----  \n",
            " 0   male             4240 non-null   int64  \n",
            " 1   age              4240 non-null   int64  \n",
            " 2   education        4135 non-null   float64\n",
            " 3   currentSmoker    4240 non-null   int64  \n",
            " 4   cigsPerDay       4211 non-null   float64\n",
            " 5   BPMeds           4187 non-null   float64\n",
            " 6   prevalentStroke  4240 non-null   int64  \n",
            " 7   prevalentHyp     4240 non-null   int64  \n",
            " 8   diabetes         4240 non-null   int64  \n",
            " 9   totChol          4190 non-null   float64\n",
            " 10  sysBP            4240 non-null   float64\n",
            " 11  diaBP            4240 non-null   float64\n",
            " 12  BMI              4221 non-null   float64\n",
            " 13  heartRate        4239 non-null   float64\n",
            " 14  glucose          3852 non-null   float64\n",
            " 15  TenYearCHD       4240 non-null   int64  \n",
            "dtypes: float64(9), int64(7)\n",
            "memory usage: 530.1 KB\n",
            "None\n"
          ]
        }
      ]
    },
    {
      "cell_type": "code",
      "source": [
        "print(df.describe())"
      ],
      "metadata": {
        "colab": {
          "base_uri": "https://localhost:8080/"
        },
        "id": "0gRMPS1FcLNN",
        "outputId": "98a1557b-07da-4972-dde2-b7ba25b5e9a9"
      },
      "id": "0gRMPS1FcLNN",
      "execution_count": 31,
      "outputs": [
        {
          "output_type": "stream",
          "name": "stdout",
          "text": [
            "              male          age    education  currentSmoker   cigsPerDay  \\\n",
            "count  4240.000000  4240.000000  4135.000000    4240.000000  4211.000000   \n",
            "mean      0.429245    49.580189     1.979444       0.494104     9.005937   \n",
            "std       0.495027     8.572942     1.019791       0.500024    11.922462   \n",
            "min       0.000000    32.000000     1.000000       0.000000     0.000000   \n",
            "25%       0.000000    42.000000     1.000000       0.000000     0.000000   \n",
            "50%       0.000000    49.000000     2.000000       0.000000     0.000000   \n",
            "75%       1.000000    56.000000     3.000000       1.000000    20.000000   \n",
            "max       1.000000    70.000000     4.000000       1.000000    70.000000   \n",
            "\n",
            "            BPMeds  prevalentStroke  prevalentHyp     diabetes      totChol  \\\n",
            "count  4187.000000      4240.000000   4240.000000  4240.000000  4190.000000   \n",
            "mean      0.029615         0.005896      0.310613     0.025708   236.699523   \n",
            "std       0.169544         0.076569      0.462799     0.158280    44.591284   \n",
            "min       0.000000         0.000000      0.000000     0.000000   107.000000   \n",
            "25%       0.000000         0.000000      0.000000     0.000000   206.000000   \n",
            "50%       0.000000         0.000000      0.000000     0.000000   234.000000   \n",
            "75%       0.000000         0.000000      1.000000     0.000000   263.000000   \n",
            "max       1.000000         1.000000      1.000000     1.000000   696.000000   \n",
            "\n",
            "             sysBP        diaBP          BMI    heartRate      glucose  \\\n",
            "count  4240.000000  4240.000000  4221.000000  4239.000000  3852.000000   \n",
            "mean    132.354599    82.897759    25.800801    75.878981    81.963655   \n",
            "std      22.033300    11.910394     4.079840    12.025348    23.954335   \n",
            "min      83.500000    48.000000    15.540000    44.000000    40.000000   \n",
            "25%     117.000000    75.000000    23.070000    68.000000    71.000000   \n",
            "50%     128.000000    82.000000    25.400000    75.000000    78.000000   \n",
            "75%     144.000000    90.000000    28.040000    83.000000    87.000000   \n",
            "max     295.000000   142.500000    56.800000   143.000000   394.000000   \n",
            "\n",
            "        TenYearCHD  \n",
            "count  4240.000000  \n",
            "mean      0.151887  \n",
            "std       0.358953  \n",
            "min       0.000000  \n",
            "25%       0.000000  \n",
            "50%       0.000000  \n",
            "75%       0.000000  \n",
            "max       1.000000  \n"
          ]
        }
      ]
    },
    {
      "cell_type": "markdown",
      "source": [
        "Clean Dataset\n"
      ],
      "metadata": {
        "id": "DUIo9w4ScMYc"
      },
      "id": "DUIo9w4ScMYc"
    },
    {
      "cell_type": "code",
      "source": [
        "print(df.isnull().sum())\n",
        "df = df.drop(columns=['education'])\n",
        "imputer = SimpleImputer(strategy='median')\n",
        "df = pd.DataFrame(imputer.fit_transform(df), columns=df.columns)\n",
        "print(\"\\nMissing values after imputation:\")\n",
        "print(df.isnull().sum())\n",
        "print(\"\\nShape of dataset after imputation:\", df.shape)"
      ],
      "metadata": {
        "colab": {
          "base_uri": "https://localhost:8080/"
        },
        "id": "uyFqtUKwcZ_W",
        "outputId": "bbba02d3-63b7-4de8-bb86-b5bbdb533ea0"
      },
      "id": "uyFqtUKwcZ_W",
      "execution_count": 32,
      "outputs": [
        {
          "output_type": "stream",
          "name": "stdout",
          "text": [
            "male                 0\n",
            "age                  0\n",
            "education          105\n",
            "currentSmoker        0\n",
            "cigsPerDay          29\n",
            "BPMeds              53\n",
            "prevalentStroke      0\n",
            "prevalentHyp         0\n",
            "diabetes             0\n",
            "totChol             50\n",
            "sysBP                0\n",
            "diaBP                0\n",
            "BMI                 19\n",
            "heartRate            1\n",
            "glucose            388\n",
            "TenYearCHD           0\n",
            "dtype: int64\n",
            "\n",
            "Missing values after imputation:\n",
            "male               0\n",
            "age                0\n",
            "currentSmoker      0\n",
            "cigsPerDay         0\n",
            "BPMeds             0\n",
            "prevalentStroke    0\n",
            "prevalentHyp       0\n",
            "diabetes           0\n",
            "totChol            0\n",
            "sysBP              0\n",
            "diaBP              0\n",
            "BMI                0\n",
            "heartRate          0\n",
            "glucose            0\n",
            "TenYearCHD         0\n",
            "dtype: int64\n",
            "\n",
            "Shape of dataset after imputation: (4240, 15)\n"
          ]
        }
      ]
    },
    {
      "cell_type": "markdown",
      "source": [
        "Feature Engineering and Prep"
      ],
      "metadata": {
        "id": "fo7HyZi_cm-N"
      },
      "id": "fo7HyZi_cm-N"
    },
    {
      "cell_type": "code",
      "source": [
        "df['high_glucose'] = (df['glucose'] >= 120).astype(int)\n",
        "df = df.drop(columns=['glucose'])\n",
        "\n",
        "print(\"Created 'high_glucose' target variable.\")\n",
        "print(\"Distribution of the target variable:\")\n",
        "print(df['high_glucose'].value_counts())\n",
        "\n",
        "print(\"\\n--- 4. Preparing Data for ML Models ---\")\n",
        "X = df.drop('high_glucose', axis=1)\n",
        "y = df['high_glucose']\n",
        "\n",
        "X_train, X_test, y_train, y_test = train_test_split(X, y, test_size=0.2, random_state=42, stratify=y)\n",
        "\n",
        "scaler = StandardScaler()\n",
        "X_train_scaled = scaler.fit_transform(X_train)\n",
        "X_test_scaled = scaler.transform(X_test)\n"
      ],
      "metadata": {
        "colab": {
          "base_uri": "https://localhost:8080/"
        },
        "id": "VINRY8o8cvLn",
        "outputId": "98c929d9-46c5-4aa2-a64c-1869827533d6"
      },
      "id": "VINRY8o8cvLn",
      "execution_count": 33,
      "outputs": [
        {
          "output_type": "stream",
          "name": "stdout",
          "text": [
            "Created 'high_glucose' target variable.\n",
            "Distribution of the target variable:\n",
            "high_glucose\n",
            "0    4132\n",
            "1     108\n",
            "Name: count, dtype: int64\n",
            "\n",
            "--- 4. Preparing Data for ML Models ---\n"
          ]
        }
      ]
    },
    {
      "cell_type": "markdown",
      "source": [
        "Handling class imbalance with SMOT"
      ],
      "metadata": {
        "id": "dzEdhOY9dCI5"
      },
      "id": "dzEdhOY9dCI5"
    },
    {
      "cell_type": "code",
      "source": [
        "smote = SMOTE(random_state=42)\n",
        "X_train_resampled, y_train_resampled = smote.fit_resample(X_train_scaled, y_train)\n",
        "\n",
        "print(\"Original training set shape:\", X_train.shape)\n",
        "print(\"Resampled training set shape:\", X_train_resampled.shape)\n",
        "print(\"\\nClass distribution in resampled training data:\")\n",
        "print(pd.Series(y_train_resampled).value_counts())\n"
      ],
      "metadata": {
        "colab": {
          "base_uri": "https://localhost:8080/"
        },
        "id": "lmejqEeVdPKh",
        "outputId": "7baab110-8335-4f68-d298-35900fc9e02b"
      },
      "id": "lmejqEeVdPKh",
      "execution_count": 34,
      "outputs": [
        {
          "output_type": "stream",
          "name": "stdout",
          "text": [
            "Original training set shape: (3392, 14)\n",
            "Resampled training set shape: (6612, 14)\n",
            "\n",
            "Class distribution in resampled training data:\n",
            "high_glucose\n",
            "0    3306\n",
            "1    3306\n",
            "Name: count, dtype: int64\n"
          ]
        }
      ]
    },
    {
      "cell_type": "markdown",
      "source": [
        "Train Model"
      ],
      "metadata": {
        "id": "rNEMmQiAdYSP"
      },
      "id": "rNEMmQiAdYSP"
    },
    {
      "cell_type": "code",
      "source": [
        "print(\"\\n--- 6. Training and Evaluating Models ---\")\n",
        "models = {\n",
        "        \"Logistic Regression\": LogisticRegression(random_state=42),\n",
        "        \"Random Forest\": RandomForestClassifier(random_state=42),\n",
        "        \"XGBoost\": XGBClassifier(random_state=42, use_label_encoder=False, eval_metric='logloss')\n",
        "        }\n",
        "results = {}\n",
        "for name, model in models.items():\n",
        "    print(f\"\\n--- Training {name} ---\")\n",
        "    model.fit(X_train_resampled, y_train_resampled)\n",
        "    y_pred = model.predict(X_test_scaled)\n",
        "    accuracy = accuracy_score(y_test, y_pred)\n",
        "    results[name] = {'accuracy': accuracy, 'model': model}\n",
        "    print(f\"Accuracy: {accuracy:.4f}\")\n",
        "param_grid = {\n",
        "        'n_estimators': [100, 200],\n",
        "        'max_depth': [3, 5, 7],\n",
        "        'learning_rate': [0.05, 0.1],\n",
        "        'subsample': [0.8, 1.0]\n",
        "        }\n",
        "xgb = XGBClassifier(random_state=42, use_label_encoder=False, eval_metric='logloss')\n",
        "grid_search = GridSearchCV(estimator=xgb, param_grid=param_grid, cv=3, n_jobs=-1, verbose=1, scoring='accuracy')\n",
        "print(\"Running GridSearchCV... (This may take a moment)\")\n",
        "grid_search.fit(X_train_resampled, y_train_resampled)\n",
        "print(\"\\nBest Parameters Found:\")\n",
        "print(grid_search.best_params_)\n",
        "best_model = grid_search.best_estimator_\n"
      ],
      "metadata": {
        "colab": {
          "base_uri": "https://localhost:8080/"
        },
        "id": "2TzAH6gGdXc6",
        "outputId": "a0a652e5-2f16-4d43-b340-7542a89a3038"
      },
      "id": "2TzAH6gGdXc6",
      "execution_count": 35,
      "outputs": [
        {
          "output_type": "stream",
          "name": "stdout",
          "text": [
            "\n",
            "--- 6. Training and Evaluating Models ---\n",
            "\n",
            "--- Training Logistic Regression ---\n",
            "Accuracy: 0.9139\n",
            "\n",
            "--- Training Random Forest ---\n",
            "Accuracy: 0.9811\n",
            "\n",
            "--- Training XGBoost ---\n",
            "Accuracy: 0.9752\n",
            "Running GridSearchCV... (This may take a moment)\n",
            "Fitting 3 folds for each of 24 candidates, totalling 72 fits\n",
            "\n",
            "Best Parameters Found:\n",
            "{'learning_rate': 0.1, 'max_depth': 7, 'n_estimators': 200, 'subsample': 1.0}\n"
          ]
        }
      ]
    },
    {
      "cell_type": "markdown",
      "source": [
        "Eval and Visualize"
      ],
      "metadata": {
        "id": "npVbSJdxdSgh"
      },
      "id": "npVbSJdxdSgh"
    },
    {
      "cell_type": "code",
      "source": [
        "y_pred_best = best_model.predict(X_test_scaled)\n",
        "final_accuracy = accuracy_score(y_test, y_pred_best)\n",
        "\n",
        "print(f\"Final Tuned Model Accuracy: {final_accuracy:.4f}\")\n",
        "print(\"\\nClassification Report for Tuned Model:\")\n",
        "print(classification_report(y_test, y_pred_best))\n",
        "\n",
        "feature_importances = pd.Series(best_model.feature_importances_, index=X.columns).sort_values(ascending=False)\n",
        "plt.figure(figsize=(12, 8))\n",
        "sns.barplot(x=feature_importances, y=feature_importances.index, palette='viridis')\n",
        "plt.title('Feature Importance for Tuned XGBoost Model', fontsize=16)\n",
        "plt.xlabel('Importance Score')\n",
        "plt.ylabel('Features')\n",
        "plt.show()\n",
        "\n",
        "# Visualize Confusion Matrix\n",
        "cm = confusion_matrix(y_test, y_pred_best)\n",
        "plt.figure(figsize=(8, 6))\n",
        "sns.heatmap(cm, annot=True, fmt='d', cmap='Greens',\n",
        "            xticklabels=['Normal Glucose', 'High Glucose'],\n",
        "            yticklabels=['Normal Glucose', 'High Glucose'])\n",
        "plt.title('Confusion Matrix for Tuned XGBoost Model', fontsize=16)\n",
        "plt.xlabel('Predicted Label')\n",
        "plt.ylabel('True Label')\n",
        "plt.show()\n",
        "\n"
      ],
      "metadata": {
        "colab": {
          "base_uri": "https://localhost:8080/",
          "height": 1000
        },
        "id": "kNAaKhzMd2VW",
        "outputId": "4ed5c335-ac6d-4583-d919-4a78494cf70f"
      },
      "id": "kNAaKhzMd2VW",
      "execution_count": 36,
      "outputs": [
        {
          "output_type": "stream",
          "name": "stdout",
          "text": [
            "Final Tuned Model Accuracy: 0.9764\n",
            "\n",
            "Classification Report for Tuned Model:\n",
            "              precision    recall  f1-score   support\n",
            "\n",
            "           0       0.99      0.99      0.99       826\n",
            "           1       0.55      0.55      0.55        22\n",
            "\n",
            "    accuracy                           0.98       848\n",
            "   macro avg       0.77      0.77      0.77       848\n",
            "weighted avg       0.98      0.98      0.98       848\n",
            "\n"
          ]
        },
        {
          "output_type": "display_data",
          "data": {
            "text/plain": [
              "<Figure size 1200x800 with 1 Axes>"
            ],
            "image/png": "[encoded data removed]"
          },
          "metadata": {}
        },
        {
          "output_type": "display_data",
          "data": {
            "text/plain": [
              "<Figure size 800x600 with 2 Axes>"
            ],
            "image/png": "[encoded data removed]"
          },
          "metadata": {}
        }
      ]
    }
  ],
  "metadata": {
    "colab": {
      "provenance": [],
      "gpuType": "T4"
    },
    "language_info": {
      "name": "python"
    },
    "kernelspec": {
      "name": "python3",
      "display_name": "Python 3"
    },
    "accelerator": "GPU"
  },
  "nbformat": 4,
  "nbformat_minor": 5
}